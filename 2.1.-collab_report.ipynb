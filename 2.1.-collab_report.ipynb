{
 "cells": [
  {
   "cell_type": "code",
   "execution_count": null,
   "metadata": {},
   "outputs": [],
   "source": [
    "# imports\n",
    "import os\n",
    "import csv\n",
    "from Bb_rest_helper import Get_Config\n",
    "from Bb_rest_helper import Auth_Helper\n",
    "from Bb_rest_helper import Bb_Requests\n",
    "from Bb_rest_helper import Bb_Utils\n",
    "\n",
    "# set logging\n",
    "utils = Bb_Utils()\n",
    "utils.set_logging()\n",
    "\n",
    "# set requests\n",
    "reqs = Bb_Requests()\n",
    "\n",
    "# REST Api Authentication\n",
    "quick_auth_learn = utils.quick_auth('./credentials/learn_config.json', 'Learn')\n",
    "quick_auth_collab = utils.quick_auth(\n",
    "    './credentials/collab_config.json', 'Collaborate')\n",
    "\n",
    "# Learn url and token\n",
    "learn_token = quick_auth_learn['token']\n",
    "learn_url = quick_auth_learn['url']\n",
    "\n",
    "# Colalb url and token\n",
    "collab_token = quick_auth_collab['token']\n",
    "collab_url = quick_auth_collab['url']\n",
    "\n",
    "print(\"Collab and Learn Token set!\")"
   ]
  },
  {
   "cell_type": "code",
   "execution_count": null,
   "metadata": {},
   "outputs": [],
   "source": [
    "# Get course list\n",
    "# This function has been updated to filter results by course avaiability. Pass 'Yes' for available courses and 'No' for unavailable,\n",
    "# default value is 'No', so  by default this will return a list of unavailable courses\n",
    "\n",
    "def get_course_list(toogle_course_status = 'No'):\n",
    "    course_url = '/learn/api/public/v3/courses'\n",
    "    params = {\n",
    "        'fields': 'courseId,uuid,name,availability.available'\n",
    "    }\n",
    "    course_list = reqs.Bb_GET(learn_url, course_url, learn_token, params)\n",
    "    filtered_course_list = []\n",
    "    for c in course_list:\n",
    "        if c['availability']['available'] == toogle_course_status:\n",
    "            filtered_course_list.append(c)\n",
    "    \n",
    "    print(f'{len(filtered_course_list)} courses in the system with available set as: {toogle_course_status}')\n",
    "    return filtered_course_list\n",
    "\n",
    "\n",
    "courses = get_course_list('No')\n",
    "utils.pretty_printer(courses)"
   ]
  },
  {
   "cell_type": "code",
   "execution_count": null,
   "metadata": {},
   "outputs": [],
   "source": [
    "# Get sessions by course/context\n",
    "def get_sessions(course_list):\n",
    "    with open('./reports/collab_report.csv', 'a', newline='',encoding="utf-8") as csvfile:\n",
    "        fields = ['Course id', 'Course name', 'Course available',\n",
    "                  'Session id', 'Session name', 'Guests allowed']\n",
    "        writer = csv.DictWriter(csvfile, fieldnames=fields)\n",
    "        writer.writeheader()\n",
    "        for c in course_list:\n",
    "            course_id = c['courseId']\n",
    "            course_name = c['name']\n",
    "            course_available = c['availability']['available']\n",
    "            sessions_url = '/sessions'\n",
    "            params = {\n",
    "                'contextExtId': c['uuid'],\n",
    "                'fields': 'results.id,results.name,results.allowGuest'\n",
    "            }\n",
    "            data = reqs.Bb_GET(collab_url, sessions_url, collab_token, params)\n",
    "            for d in data:\n",
    "                if data:\n",
    "                    writer.writerow({'Course id': course_id, 'Course name': course_name,'Course available': course_available, 'Session id': d['id'],\n",
    "                                     'Session name': d['name'], 'Guests allowed': d['allowGuest']})\n",
    "\n",
    "\n",
    "session_list = get_sessions(courses)"
   ]
  }
 ],
 "metadata": {
  "interpreter": {
   "hash": "ccc265b6230792e88eb02bcec0a83ed22eae67fa64492ad4e3dba9fdcae4f4e4"
  },
  "kernelspec": {
   "display_name": "Python 3.9.4 64-bit ('env': venv)",
   "language": "python",
   "name": "python3"
  },
  "language_info": {
   "codemirror_mode": {
    "name": "ipython",
    "version": 3
   },
   "file_extension": ".py",
   "mimetype": "text/x-python",
   "name": "python",
   "nbconvert_exporter": "python",
   "pygments_lexer": "ipython3",
   "version": "3.9.4"
  },
  "orig_nbformat": 4
 },
 "nbformat": 4,
 "nbformat_minor": 2
}
