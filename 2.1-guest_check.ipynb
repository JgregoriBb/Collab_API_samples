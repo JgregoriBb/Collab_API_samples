{
 "cells": [
  {
   "cell_type": "code",
   "execution_count": null,
   "metadata": {},
   "outputs": [],
   "source": [
    "#imports\n",
    "from Bb_rest_helper import Get_Config\n",
    "from Bb_rest_helper import Auth_Helper\n",
    "from Bb_rest_helper import Bb_Requests\n",
    "from Bb_rest_helper import Bb_Utils\n",
    "\n",
    "#set logging\n",
    "utils = Bb_Utils()\n",
    "utils.set_logging()\n",
    "\n",
    "#set requests \n",
    "reqs = Bb_Requests()\n",
    "\n",
    "#REST Api Authentication\n",
    "quick_auth = utils.quick_auth('./credentials/collab_config.json','Collaborate')\n",
    "\n",
    "#Store token and url for subsequent calls\n",
    "collab_token = quick_auth['token']\n",
    "collab_url = quick_auth['url']\n",
    "\n",
    "print(\"Token set!\")\n"
   ]
  },
  {
   "cell_type": "code",
   "execution_count": null,
   "metadata": {},
   "outputs": [],
   "source": [
    "#Get sessions with Guest access\n",
    "def get_sessions():\n",
    "    sesssions_url = '/sessions'\n",
    "    params = {\n",
    "        'fields':'results.id,results.name,results.allowGuest,results.guestRole,results.guestUrl'\n",
    "    }\n",
    "    sessions = reqs.Bb_GET(collab_url, sesssions_url, collab_token, params)\n",
    "    for s in sessions:\n",
    "        if s['allowGuest']:\n",
    "            utils.pretty_printer(s,sort_keys=False)\n",
    "\n",
    "get_sessions()"
   ]
  },
  {
   "cell_type": "code",
   "execution_count": null,
   "metadata": {},
   "outputs": [],
   "source": [
    "#Patch sessions to remove guest access\n",
    "def patch_sessions(session_id):\n",
    "    patch_url = f'/sessions/{session_id}'\n",
    "    payload = {\n",
    "        'allowGuest':'false'\n",
    "    }\n",
    "    patched = reqs.Bb_PATCH(collab_url,patch_url,collab_token,payload)\n",
    "    print('Guest Access removed')\n",
    "    utils.pretty_printer(patched, sort_keys=False)\n",
    "\n",
    "\n",
    "patch_sessions(\"61af7b342e5442e6a3f72112e4596389\")\n",
    "\n",
    "\n"
   ]
  }
 ],
 "metadata": {
  "interpreter": {
   "hash": "ccc265b6230792e88eb02bcec0a83ed22eae67fa64492ad4e3dba9fdcae4f4e4"
  },
  "kernelspec": {
   "display_name": "Python 3.9.4 64-bit ('env': venv)",
   "language": "python",
   "name": "python3"
  },
  "language_info": {
   "codemirror_mode": {
    "name": "ipython",
    "version": 3
   },
   "file_extension": ".py",
   "mimetype": "text/x-python",
   "name": "python",
   "nbconvert_exporter": "python",
   "pygments_lexer": "ipython3",
   "version": "3.9.4"
  },
  "orig_nbformat": 4
 },
 "nbformat": 4,
 "nbformat_minor": 2
}
